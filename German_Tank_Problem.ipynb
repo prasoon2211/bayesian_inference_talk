{
  "nbformat": 4,
  "nbformat_minor": 0,
  "metadata": {
    "colab": {
      "provenance": []
    },
    "kernelspec": {
      "name": "python3",
      "display_name": "Python 3"
    },
    "language_info": {
      "name": "python"
    }
  },
  "cells": [
    {
      "cell_type": "code",
      "source": [
        "!pip install lets-plot\n",
        "!pip install pymc3"
      ],
      "metadata": {
        "id": "4ZxmOCKEE2fz"
      },
      "execution_count": null,
      "outputs": []
    },
    {
      "cell_type": "code",
      "source": [
        "import numpy as np\n",
        "import matplotlib.pyplot as plt\n",
        "import seaborn as sns\n",
        "\n",
        "sns.set()\n",
        "\n",
        "num_tanks = 1000\n",
        "num_captured = 15\n",
        "serial_numbers = np.arange(1, num_tanks + 1)\n",
        "num_simulations = 100_000\n",
        "\n",
        "def capture_tanks(serial_numbers, n):\n",
        "     \"\"\"Capture `n` tanks, uniformly, at random.\"\"\"\n",
        "     return np.random.choice(serial_numbers, n, replace=False)\n",
        "\n",
        "simulations = [\n",
        "    capture_tanks(serial_numbers, num_captured)\n",
        "    for _ in range(num_simulations)\n",
        "]"
      ],
      "metadata": {
        "id": "TmxqozTzFZGD"
      },
      "execution_count": 4,
      "outputs": []
    },
    {
      "cell_type": "markdown",
      "source": [
        "The simplest estimate for the number of tanks is simply the maximum number seen. We plot the distribution of this value first and then the average (in red)"
      ],
      "metadata": {
        "id": "DWd_UFrVOeYA"
      }
    },
    {
      "cell_type": "code",
      "source": [
        "first_estimates = [max(s) for s in simulations]\n",
        "\n",
        "plt.hist(first_estimates)\n",
        "avg_first_estimates = np.mean(first_estimates)\n",
        "plt.axvline(x=avg_first_estimates, color='red')"
      ],
      "metadata": {
        "colab": {
          "base_uri": "https://localhost:8080/",
          "height": 286
        },
        "id": "UlKdRPtAFeY_",
        "outputId": "5686b6a3-b9fb-43d8-8a74-37eb42182761"
      },
      "execution_count": 9,
      "outputs": [
        {
          "output_type": "execute_result",
          "data": {
            "text/plain": [
              "<matplotlib.lines.Line2D at 0x7f5fd98f3e50>"
            ]
          },
          "metadata": {},
          "execution_count": 9
        },
        {
          "output_type": "display_data",
          "data": {
            "text/plain": [
              "<Figure size 432x288 with 1 Axes>"
            ],
            "image/png": "[encoded data removed]"
          },
          "metadata": {}
        }
      ]
    },
    {
      "cell_type": "markdown",
      "source": [
        "We see that the average estimate (red line) is less than the total number of tanks. This shows us that the `max(tank_numbers)` is a biased estimator - it will always estimate the number to be less than the actual number of tanks"
      ],
      "metadata": {
        "id": "1WOALXhTOr-D"
      }
    },
    {
      "cell_type": "markdown",
      "source": [
        "So, it's clear we need to add something to this number. One intuitive solution is to add the average size of the gap between numbers to `max(tank_number)`"
      ],
      "metadata": {
        "id": "MjQxqFBOPEf3"
      }
    },
    {
      "cell_type": "code",
      "source": [
        "def max_plus_avg_spacing(simulation):\n",
        "    m = max(simulation)\n",
        "    avg_spacing = (m / num_captured) - 1 \n",
        "    return m + avg_spacing\n",
        "\n",
        "new_estimates = [max_plus_avg_spacing(s) for s in simulations]\n",
        "\n",
        "plt.hist(new_estimates)\n",
        "avg_new_estimates = np.mean(new_estimates)\n",
        "plt.axvline(x=avg_new_estimates, color='red')"
      ],
      "metadata": {
        "colab": {
          "base_uri": "https://localhost:8080/",
          "height": 286
        },
        "id": "ChMy166yF-12",
        "outputId": "6ead151e-97bb-4754-ee45-0aa49cc09c4d"
      },
      "execution_count": 5,
      "outputs": [
        {
          "output_type": "execute_result",
          "data": {
            "text/plain": [
              "<matplotlib.lines.Line2D at 0x7f5ff0091590>"
            ]
          },
          "metadata": {},
          "execution_count": 5
        },
        {
          "output_type": "display_data",
          "data": {
            "text/plain": [
              "<Figure size 432x288 with 1 Axes>"
            ],
            "image/png": "[encoded data removed]"
          },
          "metadata": {}
        }
      ]
    },
    {
      "cell_type": "code",
      "source": [
        "avg_new_estimates"
      ],
      "metadata": {
        "colab": {
          "base_uri": "https://localhost:8080/"
        },
        "id": "Kbml0n9PPiFq",
        "outputId": "3f036fde-a4c3-4cd2-b364-d76f4252b3db"
      },
      "execution_count": 8,
      "outputs": [
        {
          "output_type": "execute_result",
          "data": {
            "text/plain": [
              "999.9626666666666"
            ]
          },
          "metadata": {},
          "execution_count": 8
        }
      ]
    },
    {
      "cell_type": "markdown",
      "source": [
        "As we can see, the new estimate is almost exactly equals to 1000. This new estimate is an unbiased estimate of the actual number of tanks.\n",
        "\n",
        "You can read the derivation of how we can get this estimator and the proof that this is the UMVE from here: https://laurentlessard.com/bookproofs/tank-counting/"
      ],
      "metadata": {
        "id": "K-eh-wH_PnGf"
      }
    },
    {
      "cell_type": "code",
      "source": [
        "# also, the new estimator has a higher variance - this is the bias variance tradeoff\n",
        "\n",
        "print(np.std(first_estimates))\n",
        "print(np.std(new_estimates))"
      ],
      "metadata": {
        "colab": {
          "base_uri": "https://localhost:8080/"
        },
        "id": "VUX2VniZQSlE",
        "outputId": "8cfd6a33-827a-4ae5-8209-588d64106f32"
      },
      "execution_count": 10,
      "outputs": [
        {
          "output_type": "stream",
          "name": "stdout",
          "text": [
            "58.294202231010935\n",
            "62.180482379744994\n"
          ]
        }
      ]
    },
    {
      "cell_type": "code",
      "source": [
        "# let's take an example of a sequence of captured tank numbers\n",
        "# and use it to get the estimate using the new estimator\n",
        "captured = [499, 505, 190, 427, 185, 572, 818, 721, \n",
        "            912, 302, 765, 231, 547, 410, 884]\n",
        "\n",
        "print(max_plus_avg_spacing(captured))"
      ],
      "metadata": {
        "colab": {
          "base_uri": "https://localhost:8080/"
        },
        "id": "1zv0Z7nGGLC0",
        "outputId": "b3fef1be-cc87-4803-84cd-650b6fbca73d"
      },
      "execution_count": 11,
      "outputs": [
        {
          "output_type": "stream",
          "name": "stdout",
          "text": [
            "971.8\n"
          ]
        }
      ]
    },
    {
      "cell_type": "markdown",
      "source": [
        "Now, we will use PyMC to calculate the poterior probability distribution of the total number of tanks. Let's think of the data generating process:\n",
        "\n",
        "- Let's call the actual maximum numbers of tanks produced `N`. This `N` would be any random number between `max(tanks_captured)` to some large number (in this case, we're taking the max to be 2000). This can be generated using a `DicreteUniform` prior\n",
        "- Then, we get the produce tanks numbered: `1, 2, 3, .... N`\n",
        "- Lastly, we capture some random tanks from this sequence. This can also be modeled using a `DicreteUniform` process with mininum being `1` and maximum being `N`"
      ],
      "metadata": {
        "id": "vY1qtEq1Q1lc"
      }
    },
    {
      "cell_type": "code",
      "execution_count": 18,
      "metadata": {
        "colab": {
          "base_uri": "https://localhost:8080/",
          "height": 75
        },
        "id": "K0BcQzEGEp7p",
        "outputId": "af0fcdc2-b2de-49c8-f435-88546d67cc91"
      },
      "outputs": [
        {
          "output_type": "display_data",
          "data": {
            "text/plain": [
              "<IPython.core.display.HTML object>"
            ],
            "text/html": [
              "\n",
              "<style>\n",
              "    /* Turns off some styling */\n",
              "    progress {\n",
              "        /* gets rid of default border in Firefox and Opera. */\n",
              "        border: none;\n",
              "        /* Needs to be in here for Safari polyfill so background images work as expected. */\n",
              "        background-size: auto;\n",
              "    }\n",
              "    progress:not([value]), progress:not([value])::-webkit-progress-bar {\n",
              "        background: repeating-linear-gradient(45deg, #7e7e7e, #7e7e7e 10px, #5c5c5c 10px, #5c5c5c 20px);\n",
              "    }\n",
              "    .progress-bar-interrupted, .progress-bar-interrupted::-webkit-progress-bar {\n",
              "        background: #F44336;\n",
              "    }\n",
              "</style>\n"
            ]
          },
          "metadata": {}
        },
        {
          "output_type": "display_data",
          "data": {
            "text/plain": [
              "<IPython.core.display.HTML object>"
            ],
            "text/html": [
              "\n",
              "    <div>\n",
              "      <progress value='11000' class='' max='11000' style='width:300px; height:20px; vertical-align: middle;'></progress>\n",
              "      100.00% [11000/11000 00:01&lt;00:00 Sampling chain 0, 0 divergences]\n",
              "    </div>\n",
              "    "
            ]
          },
          "metadata": {}
        },
        {
          "output_type": "display_data",
          "data": {
            "text/plain": [
              "<IPython.core.display.HTML object>"
            ],
            "text/html": [
              "\n",
              "<style>\n",
              "    /* Turns off some styling */\n",
              "    progress {\n",
              "        /* gets rid of default border in Firefox and Opera. */\n",
              "        border: none;\n",
              "        /* Needs to be in here for Safari polyfill so background images work as expected. */\n",
              "        background-size: auto;\n",
              "    }\n",
              "    progress:not([value]), progress:not([value])::-webkit-progress-bar {\n",
              "        background: repeating-linear-gradient(45deg, #7e7e7e, #7e7e7e 10px, #5c5c5c 10px, #5c5c5c 20px);\n",
              "    }\n",
              "    .progress-bar-interrupted, .progress-bar-interrupted::-webkit-progress-bar {\n",
              "        background: #F44336;\n",
              "    }\n",
              "</style>\n"
            ]
          },
          "metadata": {}
        },
        {
          "output_type": "display_data",
          "data": {
            "text/plain": [
              "<IPython.core.display.HTML object>"
            ],
            "text/html": [
              "\n",
              "    <div>\n",
              "      <progress value='11000' class='' max='11000' style='width:300px; height:20px; vertical-align: middle;'></progress>\n",
              "      100.00% [11000/11000 00:01&lt;00:00 Sampling chain 1, 0 divergences]\n",
              "    </div>\n",
              "    "
            ]
          },
          "metadata": {}
        },
        {
          "output_type": "stream",
          "name": "stderr",
          "text": [
            "WARNING:pymc3:The number of effective samples is smaller than 10% for some parameters.\n"
          ]
        }
      ],
      "source": [
        "import pymc3 as pm\n",
        "\n",
        "with pm.Model():\n",
        "    num_tanks = pm.DiscreteUniform(\n",
        "        \"num_tanks\", \n",
        "\t    lower=max(captured), \n",
        "\t    upper=2000\n",
        "    )\n",
        "    likelihood = pm.DiscreteUniform(\n",
        "        \"observed\", \n",
        "\t    lower=1,\n",
        "\t    upper=num_tanks, \n",
        "\t    observed=captured\n",
        "    )\n",
        "    posterior = pm.sample(10000, return_inferencedata=True, tune=1000)"
      ]
    },
    {
      "cell_type": "code",
      "source": [
        "import arviz as az\n",
        "az.plot_posterior(posterior)"
      ],
      "metadata": {
        "colab": {
          "base_uri": "https://localhost:8080/",
          "height": 299
        },
        "id": "jdQNeNmdE3GV",
        "outputId": "8104c63b-dece-4f49-9147-051cddd218d1"
      },
      "execution_count": 19,
      "outputs": [
        {
          "output_type": "execute_result",
          "data": {
            "text/plain": [
              "<matplotlib.axes._subplots.AxesSubplot at 0x7f5fc57149d0>"
            ]
          },
          "metadata": {},
          "execution_count": 19
        },
        {
          "output_type": "display_data",
          "data": {
            "text/plain": [
              "<Figure size 432x288 with 1 Axes>"
            ],
            "image/png": "[encoded data removed]"
          },
          "metadata": {}
        }
      ]
    },
    {
      "cell_type": "markdown",
      "source": [
        "We see that the 94% HDI is between 912 to 1112 tanks with the mean being very close to the actual maximum number of tanks produce (1000)"
      ],
      "metadata": {
        "id": "KcGxDtwkTLF5"
      }
    },
    {
      "cell_type": "code",
      "source": [],
      "metadata": {
        "id": "HbTpC43QGdCF"
      },
      "execution_count": null,
      "outputs": []
    }
  ]
}